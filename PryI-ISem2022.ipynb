{
 "cells": [
  {
   "cell_type": "markdown",
   "metadata": {},
   "source": [
    "# Proyecto I"
   ]
  },
  {
   "cell_type": "markdown",
   "metadata": {},
   "source": [
    "Dada la siguiente estructura:\n",
    "    \n",
    "`  \n",
    "estudiantes = {\"estudiante_X\": {\"cursos\": {\"c1\":0,\"c2\":0},          \n",
    "                     \"nombre\" : \"...\",  \n",
    "                     \"direccion\" : \"....\",  \n",
    "                     \"telefono\" : \"....\",  \n",
    "                     \"email\" : \"...\"  \n",
    "                    }  \n",
    "               }  \n",
    "`\n",
    "\n",
    "donde:\n",
    "\n",
    "- **estudiante_X**: corresponde al carnet del estudiante.\n",
    "- **c1,c2,...,cN**: corresponde a los nombres del cursos que el estudiante matriculó, mientras que su valor corresponde a la nota (0 cuando lo matricula y un número entre 1 y 10 reflejando el resultado final).\n",
    "- **nombre**: corresponde con el nombre de ese estudiante.\n",
    "- **direccion**: corresponde con la dirección del estudiante.\n",
    "- **telefono**: corresponde con el teléfono de el estudiante.\n",
    "- **email**: corresponde con el email del estudiante.\n",
    "    \n",
    "Construya un programa que ejecute operaciones de **CRUD (C:Create, R:Read, U:Update, D:Delete)** que permita:\n",
    "\n",
    "1. Crear un nuevo estudiante o un nuevo curso para un estudiante.\n",
    "2. Leer la información de todos los estudiantes, de un estudiante en particular o los cursos de un estudiante específico.\n",
    "3. Actualice la información de un estudiante (nombre, dirección, teléfono o email) o la nota de un curso para un estudiante.\n",
    "4. Elimine la información de un curso para un estudiante o aún un estudiante completo.\n",
    "5. El programa debe tener un menú que se ejecute hasta que se seleccione la opción de **terminar**.\n",
    "\n",
    "La información debe ser persistente, por lo que no dependerá de una ejecución específica, sino que se mantendrá en archivos que se puedan reutilizar. Se recomienda el uso de archivos **shelve**."
   ]
  },
  {
   "cell_type": "markdown",
   "metadata": {},
   "source": [
    "# Aspectos administrativos"
   ]
  },
  {
   "cell_type": "markdown",
   "metadata": {},
   "source": [
    "1. La entrega es electrónica a más tardar el jueves 28 de Abril antes de la clase, como un programa .py con su nombre en el folder de Teams donde esta el enunciado.\n",
    "2. Se debe confeccionar y entregar en forma individual.\n",
    "3. El plagio o trabajo 'colaborativo' no es permitido y será fuertemente sancionado.\n",
    "4. Dentro de la calificación se tomará en cuenta:\n",
    "   - Funcionamiento del programa 60%\n",
    "   - Nomenclatura                10%\n",
    "   - Documentación interna       10%\n",
    "   - Prácticas de programación   10%\n",
    "   - Manejo de errores           10%\n",
    "   - Total                      100%"
   ]
  },
  {
   "cell_type": "markdown",
   "metadata": {},
   "source": [
    "# Aspectos técnicos\n"
   ]
  },
  {
   "cell_type": "markdown",
   "metadata": {},
   "source": [
    "1. El programa debe estar estructurado como funciones.\n",
    "2. Se debe incluir abundante documentación interna (comentarios) de acuerdo a la guía suministrada.\n",
    "3. No se recomienda hacer operaciones de entrada o salida dentro de las funciones ni el uso de variables globales."
   ]
  }
 ],
 "metadata": {
  "kernelspec": {
   "display_name": "Python 3 (ipykernel)",
   "language": "python",
   "name": "python3"
  },
  "language_info": {
   "codemirror_mode": {
    "name": "ipython",
    "version": 3
   },
   "file_extension": ".py",
   "mimetype": "text/x-python",
   "name": "python",
   "nbconvert_exporter": "python",
   "pygments_lexer": "ipython3",
   "version": "3.10.2"
  }
 },
 "nbformat": 4,
 "nbformat_minor": 4
}
